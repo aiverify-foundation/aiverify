{
 "cells": [
  {
   "cell_type": "markdown",
   "metadata": {},
   "source": [
    "# Environment Corruption Playground\n",
    "\n",
    "This notebook provides a visual preview of various **Environment Corruption** functions. You can use it to explore the effects of different environment corruption algorithms and customize their parameters before applying them in the command-line interface (CLI).\n",
    "\n",
    "### Available Environment Corruptions\n",
    "\n",
    "- Snow\n",
    "- Fog\n",
    "- Rain\n",
    "\n",
    "### How to Use This Notebook\n",
    "\n",
    "- The default parameter values for each environment corruption function are stored in `DEFAULT_PARAMS`.\n",
    "- You can modify these parameters within this notebook to see their effects in real-time, e.g.\n",
    "\n",
    "  ```python\n",
    "  # for snow_intensity in DEFAULT_PARAMS[\"snow_intensity\"]:\n",
    "  for snow_intensity in [1.0, 2.0, 3.0]:\n",
    "      out = snow(image, intensity=snow_intensity)\n",
    "      ...\n",
    "  ```\n",
    "\n",
    "- Once satisfied with your custom values, you can apply them in the CLI using flags like\n",
    "  `--snow_intensity 1.0 2.0 3.0`. For more information, please refer to [README.md](README.md).\n"
   ]
  },
  {
   "cell_type": "markdown",
   "metadata": {},
   "source": [
    "## Load Demo Image\n",
    "\n",
    "The following code loads a sample image and resizes it for consistency in visualization.\n"
   ]
  },
  {
   "cell_type": "code",
   "execution_count": null,
   "metadata": {},
   "outputs": [],
   "source": [
    "import numpy as np\n",
    "from aiverify_environment_corruptions.utils.environment import DEFAULT_PARAMS\n",
    "from PIL import Image\n",
    "\n",
    "image = np.array(Image.open(\"../../../user_defined_files/data/dog.jpg\").resize((720, 480)))"
   ]
  },
  {
   "cell_type": "markdown",
   "metadata": {},
   "source": [
    "## Snow\n"
   ]
  },
  {
   "cell_type": "code",
   "execution_count": null,
   "metadata": {},
   "outputs": [],
   "source": [
    "from aiverify_environment_corruptions.utils.environment import snow\n",
    "\n",
    "print(f\"original\")\n",
    "display(Image.fromarray(image))\n",
    "\n",
    "for snow_intensity in DEFAULT_PARAMS[\"snow_intensity\"]:\n",
    "    out = snow(image, intensity=snow_intensity)\n",
    "    print(f\"{snow_intensity=}\")\n",
    "    display(Image.fromarray(out))"
   ]
  },
  {
   "cell_type": "markdown",
   "metadata": {},
   "source": [
    "## Fog\n"
   ]
  },
  {
   "cell_type": "code",
   "execution_count": null,
   "metadata": {},
   "outputs": [],
   "source": [
    "from aiverify_environment_corruptions.utils.environment import fog\n",
    "\n",
    "print(f\"original\")\n",
    "display(Image.fromarray(image))\n",
    "\n",
    "for fog_intensity in DEFAULT_PARAMS[\"fog_intensity\"]:\n",
    "    out = fog(image, intensity=fog_intensity)\n",
    "    print(f\"{fog_intensity=}\")\n",
    "    display(Image.fromarray(out))"
   ]
  },
  {
   "cell_type": "markdown",
   "metadata": {},
   "source": [
    "## Rain\n"
   ]
  },
  {
   "cell_type": "code",
   "execution_count": null,
   "metadata": {},
   "outputs": [],
   "source": [
    "from aiverify_environment_corruptions.utils.environment import rain\n",
    "\n",
    "print(f\"original\")\n",
    "display(Image.fromarray(image))\n",
    "\n",
    "for rain_type in DEFAULT_PARAMS[\"rain_type\"]:\n",
    "    out = rain(image, type=rain_type)\n",
    "    print(f\"{rain_type=}\")\n",
    "    display(Image.fromarray(out))"
   ]
  }
 ],
 "metadata": {
  "kernelspec": {
   "display_name": "aiverify",
   "language": "python",
   "name": "python3"
  },
  "language_info": {
   "codemirror_mode": {
    "name": "ipython",
    "version": 3
   },
   "file_extension": ".py",
   "mimetype": "text/x-python",
   "name": "python",
   "nbconvert_exporter": "python",
   "pygments_lexer": "ipython3",
   "version": "3.11.11"
  }
 },
 "nbformat": 4,
 "nbformat_minor": 2
}
