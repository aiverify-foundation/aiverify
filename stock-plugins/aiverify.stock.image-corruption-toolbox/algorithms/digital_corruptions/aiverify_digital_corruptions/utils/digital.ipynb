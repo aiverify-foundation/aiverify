{
 "cells": [
  {
   "cell_type": "code",
   "execution_count": null,
   "metadata": {},
   "outputs": [],
   "source": [
    "import numpy as np\n",
    "import requests\n",
    "from aiverify_digital_corruptions.utils.digital import DEFAULT_PARAMS\n",
    "from PIL import Image\n",
    "\n",
    "url = \"https://cassette.sphdigital.com.sg/image/straitstimes/5697e92a578aada9b7fcc3e341dd89ccb4b246f7fcf8a1eb97bef2818f0189cc?w=860\"\n",
    "image = np.array(Image.open(requests.get(url, stream=True).raw).resize((480, 300)))"
   ]
  },
  {
   "cell_type": "code",
   "execution_count": null,
   "metadata": {},
   "outputs": [],
   "source": [
    "from aiverify_digital_corruptions.utils.digital import brightness_down\n",
    "\n",
    "print(f\"original\")\n",
    "display(Image.fromarray(image))\n",
    "\n",
    "for factor in DEFAULT_PARAMS[\"brightness_down_factor\"]:\n",
    "    out = brightness_down(image, factor=factor)\n",
    "    print(f\"brightness_down_factor={factor}\")\n",
    "    display(Image.fromarray(out))"
   ]
  },
  {
   "cell_type": "code",
   "execution_count": null,
   "metadata": {},
   "outputs": [],
   "source": [
    "from aiverify_digital_corruptions.utils.digital import brightness_up\n",
    "\n",
    "print(f\"original\")\n",
    "display(Image.fromarray(image))\n",
    "\n",
    "for factor in DEFAULT_PARAMS[\"brightness_up_factor\"]:\n",
    "    out = brightness_up(image, factor=factor)\n",
    "    print(f\"brightness_up_factor={factor}\")\n",
    "    display(Image.fromarray(out))"
   ]
  },
  {
   "cell_type": "code",
   "execution_count": null,
   "metadata": {},
   "outputs": [],
   "source": [
    "from aiverify_digital_corruptions.utils.digital import contrast_down\n",
    "\n",
    "print(f\"original\")\n",
    "display(Image.fromarray(image))\n",
    "\n",
    "for factor in DEFAULT_PARAMS[\"contrast_down_factor\"]:\n",
    "    out = contrast_down(image, factor=factor)\n",
    "    print(f\"contrast_down_factor={factor}\")\n",
    "    display(Image.fromarray(out))"
   ]
  },
  {
   "cell_type": "code",
   "execution_count": null,
   "metadata": {},
   "outputs": [],
   "source": [
    "from aiverify_digital_corruptions.utils.digital import contrast_up\n",
    "\n",
    "print(f\"original\")\n",
    "display(Image.fromarray(image))\n",
    "\n",
    "for factor in DEFAULT_PARAMS[\"contrast_up_factor\"]:\n",
    "    out = contrast_up(image, factor=factor)\n",
    "    print(f\"contrast_up_factor={factor}\")\n",
    "    display(Image.fromarray(out))"
   ]
  },
  {
   "cell_type": "code",
   "execution_count": null,
   "metadata": {},
   "outputs": [],
   "source": [
    "from aiverify_digital_corruptions.utils.digital import saturate_down\n",
    "\n",
    "print(f\"original\")\n",
    "display(Image.fromarray(image))\n",
    "\n",
    "for factor in DEFAULT_PARAMS[\"saturate_down_factor\"]:\n",
    "    out = saturate_down(image, factor=factor)\n",
    "    print(f\"saturate_down_factor={factor}\")\n",
    "    display(Image.fromarray(out))"
   ]
  },
  {
   "cell_type": "code",
   "execution_count": null,
   "metadata": {},
   "outputs": [],
   "source": [
    "from aiverify_digital_corruptions.utils.digital import saturate_up\n",
    "\n",
    "print(f\"original\")\n",
    "display(Image.fromarray(image))\n",
    "\n",
    "for factor in DEFAULT_PARAMS[\"saturate_up_factor\"]:\n",
    "    out = saturate_up(image, factor=factor)\n",
    "    print(f\"saturate_down_factor={factor}\")\n",
    "    display(Image.fromarray(out))"
   ]
  },
  {
   "cell_type": "code",
   "execution_count": null,
   "metadata": {},
   "outputs": [],
   "source": [
    "from aiverify_digital_corruptions.utils.digital import perspective\n",
    "\n",
    "print(f\"original\")\n",
    "display(Image.fromarray(image))\n",
    "\n",
    "for sigma in DEFAULT_PARAMS[\"perspective_sigma\"]:\n",
    "    out = perspective(image, sigma=sigma)\n",
    "    print(f\"perspective_sigma={sigma}\")\n",
    "    display(Image.fromarray(out))"
   ]
  },
  {
   "cell_type": "code",
   "execution_count": null,
   "metadata": {},
   "outputs": [],
   "source": [
    "from aiverify_digital_corruptions.utils.digital import jpeg_compression\n",
    "\n",
    "print(f\"original\")\n",
    "display(Image.fromarray(image))\n",
    "\n",
    "for quality in DEFAULT_PARAMS[\"jpeg_compression_quality\"]:\n",
    "    out = jpeg_compression(image, quality=quality)\n",
    "    print(f\"jpeg_compression_quality={quality}\")\n",
    "    display(Image.fromarray(out))"
   ]
  }
 ],
 "metadata": {
  "kernelspec": {
   "display_name": "aiverify",
   "language": "python",
   "name": "python3"
  },
  "language_info": {
   "codemirror_mode": {
    "name": "ipython",
    "version": 3
   },
   "file_extension": ".py",
   "mimetype": "text/x-python",
   "name": "python",
   "nbconvert_exporter": "python",
   "pygments_lexer": "ipython3",
   "version": "3.11.11"
  }
 },
 "nbformat": 4,
 "nbformat_minor": 2
}
