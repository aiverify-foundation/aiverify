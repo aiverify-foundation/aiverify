{
 "cells": [
  {
   "cell_type": "markdown",
   "metadata": {},
   "source": [
    "# Digital Corruption Playground\n",
    "\n",
    "This notebook provides a visual preview of various **Digital Corruption** functions. You can use it to explore the effects of different digital corruption algorithms and customize their parameters before applying them in the command-line interface (CLI).\n",
    "\n",
    "### Available Digital Corruptions\n",
    "\n",
    "- Brightness Down\n",
    "- Brightness Up\n",
    "- Contrast Down\n",
    "- Contrast Up\n",
    "- Saturate Down\n",
    "- Saturate Up\n",
    "- Random Perspective\n",
    "- JPEG Compression\n",
    "\n",
    "### How to Use This Notebook\n",
    "\n",
    "- The default parameter values for each digital corruption function are stored in `DEFAULT_PARAMS`.\n",
    "- You can modify these parameters within this notebook to see their effects in real-time, e.g.\n",
    "\n",
    "  ```python\n",
    "  # for brightness_down_factor in DEFAULT_PARAMS[\"brightness_down_factor\"]:\n",
    "  for brightness_down_factor in [0.1, 0.2, 0.3]:\n",
    "      out = brightness_down(image, factor=brightness_down_factor)\n",
    "      ...\n",
    "  ```\n",
    "\n",
    "- Once satisfied with your custom values, you can apply them in the CLI using flags like\n",
    "  `--brightness_down_factor 0.1 0.2 0.3`. For more information, please refer to [README.md](README.md).\n"
   ]
  },
  {
   "cell_type": "markdown",
   "metadata": {},
   "source": [
    "## Load Demo Image\n",
    "\n",
    "The following code loads a sample image and resizes it for consistency in visualization.\n"
   ]
  },
  {
   "cell_type": "code",
   "execution_count": null,
   "metadata": {},
   "outputs": [],
   "source": [
    "import numpy as np\n",
    "from aiverify_digital_corruptions.utils.digital import DEFAULT_PARAMS\n",
    "from PIL import Image\n",
    "\n",
    "image = np.array(Image.open(\"../../../user_defined_files/data/dog.jpg\").resize((720, 480)))"
   ]
  },
  {
   "cell_type": "markdown",
   "metadata": {},
   "source": [
    "## Brightness Down\n"
   ]
  },
  {
   "cell_type": "code",
   "execution_count": null,
   "metadata": {},
   "outputs": [],
   "source": [
    "from aiverify_digital_corruptions.utils.digital import brightness_down\n",
    "\n",
    "print(f\"original\")\n",
    "display(Image.fromarray(image))\n",
    "\n",
    "for brightness_down_factor in DEFAULT_PARAMS[\"brightness_down_factor\"]:\n",
    "    out = brightness_down(image, factor=brightness_down_factor)\n",
    "    print(f\"{brightness_down_factor=}\")\n",
    "    display(Image.fromarray(out))"
   ]
  },
  {
   "cell_type": "markdown",
   "metadata": {},
   "source": [
    "## Brightness Up\n"
   ]
  },
  {
   "cell_type": "code",
   "execution_count": null,
   "metadata": {},
   "outputs": [],
   "source": [
    "from aiverify_digital_corruptions.utils.digital import brightness_up\n",
    "\n",
    "print(f\"original\")\n",
    "display(Image.fromarray(image))\n",
    "\n",
    "for brightness_up_factor in DEFAULT_PARAMS[\"brightness_up_factor\"]:\n",
    "    out = brightness_up(image, factor=brightness_up_factor)\n",
    "    print(f\"{brightness_up_factor=}\")\n",
    "    display(Image.fromarray(out))"
   ]
  },
  {
   "cell_type": "markdown",
   "metadata": {},
   "source": [
    "## Contrast Down\n"
   ]
  },
  {
   "cell_type": "code",
   "execution_count": null,
   "metadata": {},
   "outputs": [],
   "source": [
    "from aiverify_digital_corruptions.utils.digital import contrast_down\n",
    "\n",
    "print(f\"original\")\n",
    "display(Image.fromarray(image))\n",
    "\n",
    "for contrast_down_factor in DEFAULT_PARAMS[\"contrast_down_factor\"]:\n",
    "    out = contrast_down(image, factor=contrast_down_factor)\n",
    "    print(f\"{contrast_down_factor=}\")\n",
    "    display(Image.fromarray(out))"
   ]
  },
  {
   "cell_type": "markdown",
   "metadata": {},
   "source": [
    "## Contrast Up\n"
   ]
  },
  {
   "cell_type": "code",
   "execution_count": null,
   "metadata": {},
   "outputs": [],
   "source": [
    "from aiverify_digital_corruptions.utils.digital import contrast_up\n",
    "\n",
    "print(f\"original\")\n",
    "display(Image.fromarray(image))\n",
    "\n",
    "for contrast_up_factor in DEFAULT_PARAMS[\"contrast_up_factor\"]:\n",
    "    out = contrast_up(image, factor=contrast_up_factor)\n",
    "    print(f\"{contrast_up_factor=}\")\n",
    "    display(Image.fromarray(out))"
   ]
  },
  {
   "cell_type": "markdown",
   "metadata": {},
   "source": [
    "## Saturate Down\n"
   ]
  },
  {
   "cell_type": "code",
   "execution_count": null,
   "metadata": {},
   "outputs": [],
   "source": [
    "from aiverify_digital_corruptions.utils.digital import saturate_down\n",
    "\n",
    "print(f\"original\")\n",
    "display(Image.fromarray(image))\n",
    "\n",
    "for saturate_down_factor in DEFAULT_PARAMS[\"saturate_down_factor\"]:\n",
    "    out = saturate_down(image, factor=saturate_down_factor)\n",
    "    print(f\"{saturate_down_factor=}\")\n",
    "    display(Image.fromarray(out))"
   ]
  },
  {
   "cell_type": "markdown",
   "metadata": {},
   "source": [
    "## Saturate Up\n"
   ]
  },
  {
   "cell_type": "code",
   "execution_count": null,
   "metadata": {},
   "outputs": [],
   "source": [
    "from aiverify_digital_corruptions.utils.digital import saturate_up\n",
    "\n",
    "print(f\"original\")\n",
    "display(Image.fromarray(image))\n",
    "\n",
    "for saturate_up_factor in DEFAULT_PARAMS[\"saturate_up_factor\"]:\n",
    "    out = saturate_up(image, factor=saturate_up_factor)\n",
    "    print(f\"{saturate_down_factor=}\")\n",
    "    display(Image.fromarray(out))"
   ]
  },
  {
   "cell_type": "markdown",
   "metadata": {},
   "source": [
    "## Random Perspective\n"
   ]
  },
  {
   "cell_type": "code",
   "execution_count": null,
   "metadata": {},
   "outputs": [],
   "source": [
    "from aiverify_digital_corruptions.utils.digital import random_perspective\n",
    "\n",
    "print(f\"original\")\n",
    "display(Image.fromarray(image))\n",
    "\n",
    "for random_perspective_sigma in DEFAULT_PARAMS[\"random_perspective_sigma\"]:\n",
    "    out = random_perspective(image, sigma=random_perspective_sigma)\n",
    "    print(f\"{random_perspective_sigma=}\")\n",
    "    display(Image.fromarray(out))"
   ]
  },
  {
   "cell_type": "markdown",
   "metadata": {},
   "source": [
    "## JPEG Compression\n"
   ]
  },
  {
   "cell_type": "code",
   "execution_count": null,
   "metadata": {},
   "outputs": [],
   "source": [
    "from aiverify_digital_corruptions.utils.digital import jpeg_compression\n",
    "\n",
    "print(f\"original\")\n",
    "display(Image.fromarray(image))\n",
    "\n",
    "for jpeg_compression_quality in DEFAULT_PARAMS[\"jpeg_compression_quality\"]:\n",
    "    out = jpeg_compression(image, quality=jpeg_compression_quality)\n",
    "    print(f\"{jpeg_compression_quality=}\")\n",
    "    display(Image.fromarray(out))"
   ]
  }
 ],
 "metadata": {
  "kernelspec": {
   "display_name": "aiverify",
   "language": "python",
   "name": "python3"
  },
  "language_info": {
   "codemirror_mode": {
    "name": "ipython",
    "version": 3
   },
   "file_extension": ".py",
   "mimetype": "text/x-python",
   "name": "python",
   "nbconvert_exporter": "python",
   "pygments_lexer": "ipython3",
   "version": "3.11.11"
  }
 },
 "nbformat": 4,
 "nbformat_minor": 2
}
