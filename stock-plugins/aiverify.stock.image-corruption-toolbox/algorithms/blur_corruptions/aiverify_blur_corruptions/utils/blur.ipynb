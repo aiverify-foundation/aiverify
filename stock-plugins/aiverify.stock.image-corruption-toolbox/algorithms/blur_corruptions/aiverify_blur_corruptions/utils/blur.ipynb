{
 "cells": [
  {
   "cell_type": "code",
   "execution_count": null,
   "metadata": {},
   "outputs": [],
   "source": [
    "import numpy as np\n",
    "import requests\n",
    "from aiverify_blur_corruptions.utils.blur import DEFAULT_PARAMS\n",
    "from PIL import Image\n",
    "\n",
    "url = \"https://cassette.sphdigital.com.sg/image/straitstimes/5697e92a578aada9b7fcc3e341dd89ccb4b246f7fcf8a1eb97bef2818f0189cc?w=860\"\n",
    "image = np.array(Image.open(requests.get(url, stream=True).raw).resize((480, 300)))"
   ]
  },
  {
   "cell_type": "code",
   "execution_count": null,
   "metadata": {},
   "outputs": [],
   "source": [
    "from aiverify_blur_corruptions.utils.blur import zoom_blur\n",
    "\n",
    "print(f\"original\")\n",
    "display(Image.fromarray(image))\n",
    "\n",
    "for zoom_factor in DEFAULT_PARAMS[\"zoom_blur_zoom_factor\"]:\n",
    "    out = zoom_blur(image, zoom_factor=zoom_factor)\n",
    "    print(f\"zoom_factor={zoom_factor}\")\n",
    "    display(Image.fromarray(out))"
   ]
  }
 ],
 "metadata": {
  "kernelspec": {
   "display_name": "venv",
   "language": "python",
   "name": "python3"
  },
  "language_info": {
   "codemirror_mode": {
    "name": "ipython",
    "version": 3
   },
   "file_extension": ".py",
   "mimetype": "text/x-python",
   "name": "python",
   "nbconvert_exporter": "python",
   "pygments_lexer": "ipython3",
   "version": "3.11.11"
  }
 },
 "nbformat": 4,
 "nbformat_minor": 2
}
