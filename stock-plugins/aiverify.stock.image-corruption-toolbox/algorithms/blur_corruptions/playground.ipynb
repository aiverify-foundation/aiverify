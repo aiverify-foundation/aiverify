{
 "cells": [
  {
   "cell_type": "markdown",
   "metadata": {},
   "source": [
    "# Blur Corruption Playground\n",
    "\n",
    "This notebook provides a visual preview of various **Blur Corruption** functions. You can use it to explore the effects of different blur corruption algorithms and customize their parameters before applying them in the command-line interface (CLI).\n",
    "\n",
    "### Available Blur Corruptions\n",
    "\n",
    "- Gaussian Blur\n",
    "- Glass Blur\n",
    "- Defocus Blur\n",
    "- Horizontal Motion Blur\n",
    "- Vertical Motion Blur\n",
    "- Zoom Blur\n",
    "\n",
    "### How to Use This Notebook\n",
    "\n",
    "- The default parameter values for each blur corruption function are stored in `DEFAULT_PARAMS`.\n",
    "- You can modify these parameters within this notebook to see their effects in real-time, e.g.\n",
    "\n",
    "  ```python\n",
    "  # for gaussian_blur_sigma in DEFAULT_PARAMS[\"gaussian_blur_sigma\"]:\n",
    "  for gaussian_blur_sigma in [1.0, 2.0, 3.0]:\n",
    "      out = gaussian_blur(image, sigma=gaussian_blur_sigma)\n",
    "      ...\n",
    "  ```\n",
    "\n",
    "- Once satisfied with your custom values, you can apply them in the CLI using flags like\n",
    "  `--gaussian_blur_sigma 1.0 2.0 3.0`. For more information, please refer to [README.md](README.md).\n"
   ]
  },
  {
   "cell_type": "markdown",
   "metadata": {},
   "source": [
    "## Load Demo Image\n",
    "\n",
    "The following code loads a sample image and resizes it for consistency in visualization.\n"
   ]
  },
  {
   "cell_type": "code",
   "execution_count": null,
   "metadata": {},
   "outputs": [],
   "source": [
    "import numpy as np\n",
    "from aiverify_blur_corruptions.utils.blur import DEFAULT_PARAMS\n",
    "from PIL import Image\n",
    "\n",
    "image = np.array(Image.open(\"../../../user_defined_files/data/dog.jpg\").resize((720, 480)))"
   ]
  },
  {
   "cell_type": "markdown",
   "metadata": {},
   "source": [
    "## Gaussian Blur\n"
   ]
  },
  {
   "cell_type": "code",
   "execution_count": null,
   "metadata": {},
   "outputs": [],
   "source": [
    "from aiverify_blur_corruptions.utils.blur import gaussian_blur\n",
    "\n",
    "print(f\"original\")\n",
    "display(Image.fromarray(image))\n",
    "\n",
    "for gaussian_blur_sigma in DEFAULT_PARAMS[\"gaussian_blur_sigma\"]:\n",
    "    out = gaussian_blur(image, sigma=gaussian_blur_sigma)\n",
    "    print(f\"{gaussian_blur_sigma=}\")\n",
    "    display(Image.fromarray(out))"
   ]
  },
  {
   "cell_type": "markdown",
   "metadata": {},
   "source": [
    "## Glass Blur\n"
   ]
  },
  {
   "cell_type": "code",
   "execution_count": null,
   "metadata": {},
   "outputs": [],
   "source": [
    "from aiverify_blur_corruptions.utils.blur import glass_blur\n",
    "\n",
    "print(f\"original\")\n",
    "display(Image.fromarray(image))\n",
    "\n",
    "for glass_blur_max_delta in DEFAULT_PARAMS[\"glass_blur_max_delta\"]:\n",
    "    out = glass_blur(image, max_delta=glass_blur_max_delta)\n",
    "    print(f\"{glass_blur_max_delta=}\")\n",
    "    display(Image.fromarray(out))"
   ]
  },
  {
   "cell_type": "markdown",
   "metadata": {},
   "source": [
    "## Defocus Blur\n"
   ]
  },
  {
   "cell_type": "code",
   "execution_count": null,
   "metadata": {},
   "outputs": [],
   "source": [
    "from aiverify_blur_corruptions.utils.blur import defocus_blur\n",
    "\n",
    "print(f\"original\")\n",
    "display(Image.fromarray(image))\n",
    "\n",
    "for defocus_blur_radius in DEFAULT_PARAMS[\"defocus_blur_radius\"]:\n",
    "    out = defocus_blur(image, radius=defocus_blur_radius)\n",
    "    print(f\"{defocus_blur_radius=}\")\n",
    "    display(Image.fromarray(out))"
   ]
  },
  {
   "cell_type": "markdown",
   "metadata": {},
   "source": [
    "## Horizontal Motion Blur\n"
   ]
  },
  {
   "cell_type": "code",
   "execution_count": null,
   "metadata": {},
   "outputs": [],
   "source": [
    "from aiverify_blur_corruptions.utils.blur import horizontal_motion_blur\n",
    "\n",
    "print(f\"original\")\n",
    "display(Image.fromarray(image))\n",
    "\n",
    "for horizontal_motion_blur_kernel_size in DEFAULT_PARAMS[\"horizontal_motion_blur_kernel_size\"]:\n",
    "    out = horizontal_motion_blur(image, kernel_size=horizontal_motion_blur_kernel_size)\n",
    "    print(f\"{horizontal_motion_blur_kernel_size=}\")\n",
    "    display(Image.fromarray(out))"
   ]
  },
  {
   "cell_type": "markdown",
   "metadata": {},
   "source": [
    "## Vertical Motion Blur\n"
   ]
  },
  {
   "cell_type": "code",
   "execution_count": null,
   "metadata": {},
   "outputs": [],
   "source": [
    "from aiverify_blur_corruptions.utils.blur import vertical_motion_blur\n",
    "\n",
    "print(f\"original\")\n",
    "display(Image.fromarray(image))\n",
    "\n",
    "for vertical_motion_blur_kernel_size in DEFAULT_PARAMS[\"vertical_motion_blur_kernel_size\"]:\n",
    "    out = vertical_motion_blur(image, kernel_size=vertical_motion_blur_kernel_size)\n",
    "    print(f\"{vertical_motion_blur_kernel_size=}\")\n",
    "    display(Image.fromarray(out))"
   ]
  },
  {
   "cell_type": "markdown",
   "metadata": {},
   "source": [
    "## Zoom Blur\n"
   ]
  },
  {
   "cell_type": "code",
   "execution_count": null,
   "metadata": {},
   "outputs": [],
   "source": [
    "from aiverify_blur_corruptions.utils.blur import zoom_blur\n",
    "\n",
    "print(f\"original\")\n",
    "display(Image.fromarray(image))\n",
    "\n",
    "for zoom_blur_zoom_factor in DEFAULT_PARAMS[\"zoom_blur_zoom_factor\"]:\n",
    "    out = zoom_blur(image, zoom_factor=zoom_blur_zoom_factor)\n",
    "    print(f\"{zoom_blur_zoom_factor=}\")\n",
    "    display(Image.fromarray(out))"
   ]
  }
 ],
 "metadata": {
  "kernelspec": {
   "display_name": "aiverify",
   "language": "python",
   "name": "python3"
  },
  "language_info": {
   "codemirror_mode": {
    "name": "ipython",
    "version": 3
   },
   "file_extension": ".py",
   "mimetype": "text/x-python",
   "name": "python",
   "nbconvert_exporter": "python",
   "pygments_lexer": "ipython3",
   "version": "3.11.11"
  }
 },
 "nbformat": 4,
 "nbformat_minor": 2
}
