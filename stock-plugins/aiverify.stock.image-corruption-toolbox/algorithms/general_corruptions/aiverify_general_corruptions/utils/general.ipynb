{
 "cells": [
  {
   "cell_type": "code",
   "execution_count": null,
   "metadata": {},
   "outputs": [],
   "source": [
    "import numpy as np\n",
    "import requests\n",
    "from aiverify_general_corruptions.utils.general import DEFAULT_PARAMS\n",
    "from PIL import Image\n",
    "\n",
    "url = \"https://cassette.sphdigital.com.sg/image/straitstimes/5697e92a578aada9b7fcc3e341dd89ccb4b246f7fcf8a1eb97bef2818f0189cc?w=860\"\n",
    "image = np.array(Image.open(requests.get(url, stream=True).raw).resize((480, 300)))"
   ]
  },
  {
   "cell_type": "code",
   "execution_count": null,
   "metadata": {},
   "outputs": [],
   "source": [
    "from aiverify_general_corruptions.utils.general import gaussian_noise\n",
    "\n",
    "print(f\"original\")\n",
    "display(Image.fromarray(image))\n",
    "\n",
    "for sigma in DEFAULT_PARAMS[\"gaussian_noise_sigma\"]:\n",
    "    out = gaussian_noise(image, sigma=sigma)\n",
    "    print(f\"gaussian_noise_sigma={sigma}\")\n",
    "    display(Image.fromarray(out))"
   ]
  },
  {
   "cell_type": "code",
   "execution_count": null,
   "metadata": {},
   "outputs": [],
   "source": [
    "from aiverify_general_corruptions.utils.general import poisson_noise\n",
    "\n",
    "print(f\"original\")\n",
    "display(Image.fromarray(image))\n",
    "\n",
    "for scale in DEFAULT_PARAMS[\"poisson_noise_scale\"]:\n",
    "    out = poisson_noise(image, scale=scale)\n",
    "    print(f\"poisson_noise_scale={scale}\")\n",
    "    display(Image.fromarray(out))"
   ]
  },
  {
   "cell_type": "code",
   "execution_count": null,
   "metadata": {},
   "outputs": [],
   "source": [
    "from aiverify_general_corruptions.utils.general import salt_and_pepper_noise\n",
    "\n",
    "print(f\"original\")\n",
    "display(Image.fromarray(image))\n",
    "\n",
    "for amount in DEFAULT_PARAMS[\"salt_and_pepper_noise_amount\"]:\n",
    "    out = salt_and_pepper_noise(image, amount=amount)\n",
    "    print(f\"salt_and_pepper_noise_amount={amount}\")\n",
    "    display(Image.fromarray(out))"
   ]
  }
 ],
 "metadata": {
  "kernelspec": {
   "display_name": "aiverify",
   "language": "python",
   "name": "python3"
  },
  "language_info": {
   "codemirror_mode": {
    "name": "ipython",
    "version": 3
   },
   "file_extension": ".py",
   "mimetype": "text/x-python",
   "name": "python",
   "nbconvert_exporter": "python",
   "pygments_lexer": "ipython3",
   "version": "3.11.11"
  }
 },
 "nbformat": 4,
 "nbformat_minor": 2
}
