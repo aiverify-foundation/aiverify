{
 "cells": [
  {
   "cell_type": "markdown",
   "metadata": {},
   "source": [
    "# General Corruption Playground\n",
    "\n",
    "This notebook provides a visual preview of various **General Corruption** functions. You can use it to explore the effects of different general corruption algorithms and customize their parameters before applying them in the command-line interface (CLI).\n",
    "\n",
    "### Available General Corruptions\n",
    "\n",
    "- Gaussian Noise\n",
    "- Poisson Noise\n",
    "- Salt and Pepper Noise\n",
    "\n",
    "### How to Use This Notebook\n",
    "\n",
    "- The default parameter values for each general corruption function are stored in `DEFAULT_PARAMS`.\n",
    "- You can modify these parameters within this notebook to see their effects in real-time, e.g.\n",
    "\n",
    "  ```python\n",
    "  # for gaussian_noise_sigma in DEFAULT_PARAMS[\"gaussian_noise_sigma\"]:\n",
    "  for gaussian_noise_sigma in [0.1, 0.2, 0.3]:\n",
    "    out = gaussian_noise(image, sigma=gaussian_noise_sigma)\n",
    "  ```\n",
    "\n",
    "- Once satisfied with your custom values, you can apply them in the CLI using flags like\n",
    "  `--gaussian_noise_sigma 0.1 0.2 0.3`. For more information, please refer to [README.md](README.md).\n"
   ]
  },
  {
   "cell_type": "markdown",
   "metadata": {},
   "source": [
    "## Load Demo Image\n",
    "\n",
    "The following code loads a sample image and resizes it for consistency in visualization.\n"
   ]
  },
  {
   "cell_type": "code",
   "execution_count": null,
   "metadata": {},
   "outputs": [],
   "source": [
    "import numpy as np\n",
    "from aiverify_general_corruptions.utils.general import DEFAULT_PARAMS\n",
    "from PIL import Image\n",
    "\n",
    "image = np.array(Image.open(\"../../../user_defined_files/data/dog.jpg\").resize((720, 480)))"
   ]
  },
  {
   "cell_type": "markdown",
   "metadata": {},
   "source": [
    "## Gaussian Noise\n"
   ]
  },
  {
   "cell_type": "code",
   "execution_count": null,
   "metadata": {},
   "outputs": [],
   "source": [
    "from aiverify_general_corruptions.utils.general import gaussian_noise\n",
    "\n",
    "print(f\"original\")\n",
    "display(Image.fromarray(image))\n",
    "\n",
    "for gaussian_noise_sigma in DEFAULT_PARAMS[\"gaussian_noise_sigma\"]:\n",
    "    out = gaussian_noise(image, sigma=gaussian_noise_sigma)\n",
    "    print(f\"{gaussian_noise_sigma=}\")\n",
    "    display(Image.fromarray(out))"
   ]
  },
  {
   "cell_type": "markdown",
   "metadata": {},
   "source": [
    "## Poisson Noise\n"
   ]
  },
  {
   "cell_type": "code",
   "execution_count": null,
   "metadata": {},
   "outputs": [],
   "source": [
    "from aiverify_general_corruptions.utils.general import poisson_noise\n",
    "\n",
    "print(f\"original\")\n",
    "display(Image.fromarray(image))\n",
    "\n",
    "for poisson_noise_scale in DEFAULT_PARAMS[\"poisson_noise_scale\"]:\n",
    "    out = poisson_noise(image, scale=poisson_noise_scale)\n",
    "    print(f\"{poisson_noise_scale=}\")\n",
    "    display(Image.fromarray(out))"
   ]
  },
  {
   "cell_type": "markdown",
   "metadata": {},
   "source": [
    "## Salt and Pepper Noise\n"
   ]
  },
  {
   "cell_type": "code",
   "execution_count": null,
   "metadata": {},
   "outputs": [],
   "source": [
    "from aiverify_general_corruptions.utils.general import salt_and_pepper_noise\n",
    "\n",
    "print(f\"original\")\n",
    "display(Image.fromarray(image))\n",
    "\n",
    "for salt_and_pepper_noise_amount in DEFAULT_PARAMS[\"salt_and_pepper_noise_amount\"]:\n",
    "    out = salt_and_pepper_noise(image, amount=salt_and_pepper_noise_amount)\n",
    "    print(f\"{salt_and_pepper_noise_amount=}\")\n",
    "    display(Image.fromarray(out))"
   ]
  }
 ],
 "metadata": {
  "kernelspec": {
   "display_name": "aiverify",
   "language": "python",
   "name": "python3"
  },
  "language_info": {
   "codemirror_mode": {
    "name": "ipython",
    "version": 3
   },
   "file_extension": ".py",
   "mimetype": "text/x-python",
   "name": "python",
   "nbconvert_exporter": "python",
   "pygments_lexer": "ipython3",
   "version": "3.11.11"
  }
 },
 "nbformat": 4,
 "nbformat_minor": 2
}
